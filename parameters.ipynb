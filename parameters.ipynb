{
 "cells": [
  {
   "cell_type": "markdown",
   "metadata": {},
   "source": [
    "# Estimating SeaSign parameters"
   ]
  },
  {
   "cell_type": "code",
   "execution_count": 1,
   "metadata": {},
   "outputs": [],
   "source": [
    "import math"
   ]
  },
  {
   "cell_type": "code",
   "execution_count": 2,
   "metadata": {},
   "outputs": [],
   "source": [
    "def sizes(n, B, logp, λ, s=1):\n",
    "    '''\n",
    "    Computes signature sizes in bits for the schemes of Secs. 4 and 5.\n",
    "    \n",
    "    n, B, log(p), λ and s are as in the paper.\n",
    "    '''\n",
    "    if λ % s != 0:\n",
    "        raise RuntimeError(\"s (=%d) must divide λ (=%d)\" % (s,λ))\n",
    "    if logp < n*math.log2(n):\n",
    "        raise RuntimeError(\"Incompatible parameters: log(p) (=%d) must be greater than n·log(n) (=%f)\" %\n",
    "                          (logp, n*math.log2(n)))\n",
    "    t = λ // s\n",
    "    # bits to encode the lattice vectors\n",
    "    lattice = t * math.ceil(n * math.log2(2*n*t*B + 1))\n",
    "    # Signature size (Shorter signatures, Sec. 4)\n",
    "    short = lattice + λ\n",
    "    # Signature size (Smaller PKs, Sec. 5)\n",
    "    compressedpk = lattice + t*logp + λ*(λ - t*math.log2(t))\n",
    "    return (short / 8, compressedpk / 8)"
   ]
  },
  {
   "cell_type": "code",
   "execution_count": 3,
   "metadata": {},
   "outputs": [],
   "source": [
    "def sigtime(n, B, λ, s=1):\n",
    "    '''\n",
    "    Lower bound on the (log₂ of the) runtime of the signature algorithm.\n",
    "    \n",
    "    This value only makes sense up to an additive constant.\n",
    "    '''\n",
    "    return math.log2( (λ // s)**2 * B * n**3 * math.log(n) )"
   ]
  },
  {
   "cell_type": "markdown",
   "metadata": {},
   "source": [
    "## CSIDH-1 values\n",
    "\n",
    "As in the paper"
   ]
  },
  {
   "cell_type": "code",
   "execution_count": 4,
   "metadata": {},
   "outputs": [
    {
     "data": {
      "text/plain": [
       "(944.0, 3092.0)"
      ]
     },
     "execution_count": 4,
     "metadata": {},
     "output_type": "execute_result"
    }
   ],
   "source": [
    "sizes(74,5,500,128,16)"
   ]
  },
  {
   "cell_type": "code",
   "execution_count": 5,
   "metadata": {},
   "outputs": [
    {
     "data": {
      "text/plain": [
       "28.734059993771332"
      ]
     },
     "execution_count": 5,
     "metadata": {},
     "output_type": "execute_result"
    }
   ],
   "source": [
    "sigtime(74,4,128,16)"
   ]
  },
  {
   "cell_type": "markdown",
   "metadata": {},
   "source": [
    "## Other choices\n",
    "\n",
    "We may choose n and B differently, according to a security parameter. It is harder to estimate signing time precisely, but the lower bound `sigtime` still gives an idea of the (relative) performance."
   ]
  },
  {
   "cell_type": "code",
   "execution_count": 6,
   "metadata": {},
   "outputs": [],
   "source": [
    "from matplotlib import pyplot as plt"
   ]
  },
  {
   "cell_type": "code",
   "execution_count": 7,
   "metadata": {},
   "outputs": [],
   "source": [
    "def B(n, λ=128, mitm=2):\n",
    "    '''\n",
    "    Compute B as a function of n and λ.\n",
    "    \n",
    "    The parameter mitm controls the expected running time of a meet in the middle attack.\n",
    "    mitm=2 protects against the classical attack, use mitm=3 for protection against Tani's algorithm.\n",
    "    '''\n",
    "    return math.ceil((2**(mitm * λ / n)  - 1) / 2)"
   ]
  },
  {
   "cell_type": "markdown",
   "metadata": {},
   "source": [
    "We get numbers for λ=128 and n ranging from 15 to 80, with a fixed p (500 bits).\n",
    "\n",
    "First we use the parameter `mitm=2`, like in CSIDH."
   ]
  },
  {
   "cell_type": "code",
   "execution_count": 8,
   "metadata": {},
   "outputs": [
    {
     "data": {
      "text/plain": [
       "[(376.0, 35.22458310741395, 15),\n",
       " (385.0, 34.4712336270551, 16),\n",
       " (393.0, 33.82366509874603, 17),\n",
       " (402.0, 33.263221206021434, 18),\n",
       " (410.0, 32.77548106523592, 19),\n",
       " (419.0, 32.348783969223, 20),\n",
       " (428.0, 31.97361023257039, 21),\n",
       " (437.0, 31.64301294521943, 22),\n",
       " (446.0, 31.34994928921127, 23),\n",
       " (455.0, 31.09014260571483, 24),\n",
       " (464.0, 30.858916824278023, 25),\n",
       " (473.0, 30.65083855719347, 26),\n",
       " (482.0, 30.465087605749652, 27),\n",
       " (491.0, 30.303199956155137, 28),\n",
       " (500.0, 30.152081945756684, 29),\n",
       " (510.0, 30.018095979727583, 30),\n",
       " (519.0, 29.899861437520578, 31),\n",
       " (529.0, 29.793161721942464, 32),\n",
       " (538.0, 29.693984485369107, 33),\n",
       " (547.0, 29.604130458858304, 34),\n",
       " (557.0, 29.539767949450024, 35),\n",
       " (567.0, 29.45967644010621, 36),\n",
       " (577.0, 29.411463058179326, 37),\n",
       " (586.0, 29.33468441493903, 38),\n",
       " (595.0, 29.284042400130424, 39),\n",
       " (605.0, 29.2412843525881, 40),\n",
       " (615.0, 29.21339110325672, 41),\n",
       " (625.0, 29.166554160978613, 42),\n",
       " (635.0, 29.144183641902558, 43),\n",
       " (644.0, 29.105634165023762, 44),\n",
       " (655.0, 29.104525668987197, 45),\n",
       " (665.0, 29.092480907707923, 46),\n",
       " (675.0, 29.068111928613668, 47),\n",
       " (684.0, 29.029596818117074, 48),\n",
       " (696.0, 29.05250214208244, 49),\n",
       " (703.0, 28.98694626494429, 50),\n",
       " (714.0, 28.99247536885904, 51),\n",
       " (724.0, 28.99051658666492, 52),\n",
       " (734.0, 28.980361370382816, 53),\n",
       " (743.0, 28.96112357819229, 54),\n",
       " (758.0, 29.0471613247351, 55),\n",
       " (766.0, 29.016142102373184, 56),\n",
       " (774.0, 28.97354615892409, 57),\n",
       " (789.0, 29.055011743807643, 58),\n",
       " (796.0, 28.997555368196757, 59),\n",
       " (810.0, 29.07623240012009, 60),\n",
       " (816.0, 29.001582119838847, 61),\n",
       " (830.0, 29.077654347803144, 62),\n",
       " (834.0, 28.98256250511488, 63),\n",
       " (849.0, 29.056196127776257, 64),\n",
       " (863.0, 29.128667888754276, 65),\n",
       " (865.0, 29.007368640408583, 66),\n",
       " (879.0, 29.07762283072723, 67),\n",
       " (893.0, 29.14681813366733, 68),\n",
       " (908.0, 29.21498585170497, 69),\n",
       " (907.0, 29.059763500749863, 70),\n",
       " (921.0, 29.12596457366293, 71),\n",
       " (935.0, 29.191224084896874, 72),\n",
       " (949.0, 29.255568323448628, 73),\n",
       " (963.0, 29.319022494492486, 74),\n",
       " (958.0, 29.118576372255244, 75),\n",
       " (972.0, 29.180321978140743, 76),\n",
       " (986.0, 29.241247196906713, 77),\n",
       " (1000.0, 29.301373447851326, 78),\n",
       " (1014.0, 29.3607213237588, 79)]"
      ]
     },
     "execution_count": 8,
     "metadata": {},
     "output_type": "execute_result"
    }
   ],
   "source": [
    "sigperf = [(sizes(n,B(n),500,128,16)[0], sigtime(n,B(n),128,16), n) for n in range(15,80)]  \n",
    "sigperf"
   ]
  },
  {
   "cell_type": "markdown",
   "metadata": {},
   "source": [
    "There are some fluctuations due to ceil and floor functions. Optimum running time seems to be reached around n=50, with signatures of around 700B.\n",
    "\n",
    "Below we plot signature size against (log) running time"
   ]
  },
  {
   "cell_type": "code",
   "execution_count": 9,
   "metadata": {},
   "outputs": [
    {
     "data": {
      "text/plain": [
       "[<matplotlib.lines.Line2D at 0x7f5784f9efd0>]"
      ]
     },
     "execution_count": 9,
     "metadata": {},
     "output_type": "execute_result"
    },
    {
     "data": {
      "image/png": "[encoded data removed]",
      "text/plain": [
       "<Figure size 432x288 with 1 Axes>"
      ]
     },
     "metadata": {},
     "output_type": "display_data"
    }
   ],
   "source": [
    "plt.plot(*list(zip(*sigperf))[:2])"
   ]
  },
  {
   "cell_type": "markdown",
   "metadata": {},
   "source": [
    "Same plot, but with `mitm=3`. We do not loose much in signature size, slowdown is roughly a constant."
   ]
  },
  {
   "cell_type": "code",
   "execution_count": 10,
   "metadata": {},
   "outputs": [
    {
     "data": {
      "text/plain": [
       "[<matplotlib.lines.Line2D at 0x7f5778f55908>]"
      ]
     },
     "execution_count": 10,
     "metadata": {},
     "output_type": "execute_result"
    },
    {
     "data": {
      "image/png": "[encoded data removed]",
      "text/plain": [
       "<Figure size 432x288 with 1 Axes>"
      ]
     },
     "metadata": {},
     "output_type": "display_data"
    }
   ],
   "source": [
    "sigperf = [(sizes(n,B(n,mitm=3),500,128,16)[0], sigtime(n,B(n,mitm=3),128,16)) for n in range(15,80)]  \n",
    "plt.plot(*zip(*sigperf))"
   ]
  },
  {
   "cell_type": "code",
   "execution_count": null,
   "metadata": {},
   "outputs": [],
   "source": []
  }
 ],
 "metadata": {
  "kernelspec": {
   "display_name": "Python 3",
   "language": "python",
   "name": "python3"
  },
  "language_info": {
   "codemirror_mode": {
    "name": "ipython",
    "version": 3
   },
   "file_extension": ".py",
   "mimetype": "text/x-python",
   "name": "python",
   "nbconvert_exporter": "python",
   "pygments_lexer": "ipython3",
   "version": "3.7.0"
  }
 },
 "nbformat": 4,
 "nbformat_minor": 2
}
